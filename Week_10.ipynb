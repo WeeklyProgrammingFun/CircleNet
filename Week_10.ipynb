{
 "cells": [
  {
   "cell_type": "markdown",
   "id": "7cffe22a",
   "metadata": {},
   "source": [
    "# Create a neural network capable of identifying circles\n",
    "And make it run on a GPU!"
   ]
  },
  {
   "cell_type": "code",
   "execution_count": 1,
   "id": "6132fd44",
   "metadata": {},
   "outputs": [],
   "source": [
    "import torch\n",
    "import torch.nn as nn\n",
    "import math\n",
    "import matplotlib.pyplot as plt\n",
    "import random\n",
    "from torch.utils.data import Dataset, DataLoader\n",
    "from torch.utils.tensorboard import SummaryWriter\n",
    "import numpy as np\n",
    "# import fuckit # could not get working in Anaconda - ket hitting other packages\n",
    "from itertools import product"
   ]
  },
  {
   "cell_type": "code",
   "execution_count": 2,
   "id": "c69227fe",
   "metadata": {},
   "outputs": [
    {
     "name": "stdout",
     "output_type": "stream",
     "text": [
      "0.001 250 True 40 circle\n"
     ]
    }
   ],
   "source": [
    "# Hyperparameters\n",
    "parameters = dict(\n",
    "    lr = [0.001],\n",
    "    batch_size = [250],\n",
    "    shuffle = [True],\n",
    "    epochs = [40],\n",
    "    train_shape = [\"circle\"] # circle or square are supported\n",
    ")\n",
    "\n",
    "param_values = [value for value in parameters.values()]\n",
    "\n",
    "for lr, batch_size, shuffle, epochs, train_shape in product(*param_values): # Note: * here unpacks a three-tuple of three-tuples into just three three-tuples\n",
    "    print(lr, batch_size, shuffle, epochs, train_shape)"
   ]
  },
  {
   "cell_type": "code",
   "execution_count": 3,
   "id": "a2fca63b",
   "metadata": {},
   "outputs": [],
   "source": [
    "IMG_SIZE = 100 # All our circles will be in square this many pixels wide"
   ]
  },
  {
   "cell_type": "code",
   "execution_count": 4,
   "id": "40e73300",
   "metadata": {},
   "outputs": [],
   "source": [
    "def draw_circleSlow(x,y,rad,size,mark=1):\n",
    "    \"\"\"\n",
    "    Create a binary 2D matrix representation of a circle\n",
    "    :param x: x coordinate of circle center\n",
    "    :param y: y coordinate of circle center\n",
    "    :param rad: radius of circle\n",
    "    :param size: size of the matrix (size x size)\n",
    "    :return: torch matrix (size x size) with 1s representing the circle\n",
    "    \"\"\"\n",
    "    pic = torch.zeros(size,size)\n",
    "    for i in range(size):\n",
    "        for j in range(size):\n",
    "            dx = i-x\n",
    "            dy = j-y\n",
    "            d2 = (dx*dx + dy*dy)\n",
    "            if abs(d2-(rad * rad)) < 10:\n",
    "                pic[i,j] = mark\n",
    "            else:\n",
    "                pic[i,j] = 0\n",
    "    return pic   "
   ]
  },
  {
   "cell_type": "code",
   "execution_count": 5,
   "id": "068ade20",
   "metadata": {},
   "outputs": [],
   "source": [
    "def clip_write(pic,sz,x,y,mark):\n",
    "    if 0 <= x and x < sz and 0 <= y and y < sz:\n",
    "        pic[x, y] = mark\n",
    "\n",
    "# Bresenham circle\n",
    "# @fuckit\n",
    "def circ8(pic, xc, yc, x, y,mark=1, sz=100):\n",
    "    \"\"\"\n",
    "    Set 8 symmetric pixels for a circle\n",
    "    Note: fuckit decorator will silently ignore any excpetions below, most likely caused by a\n",
    "        poorly trained network attempting to guess a circle that is out of bounds\n",
    "    \"\"\"\n",
    "    clip_write(pic,sz,xc+x, yc+y,mark)\n",
    "    clip_write(pic,sz,xc-x, yc+y,mark)\n",
    "    clip_write(pic,sz,xc+x, yc-y,mark)\n",
    "    clip_write(pic,sz,xc-x, yc-y,mark)\n",
    "    clip_write(pic,sz,xc+y, yc+x,mark)\n",
    "    clip_write(pic,sz,xc-y, yc+x,mark)\n",
    "    clip_write(pic,sz,xc+y, yc-x,mark)\n",
    "    clip_write(pic,sz,xc-y, yc-x,mark)\n",
    "\n",
    "def draw_circleFast(xc,yc,radius,size, mark=1):    \n",
    "    \"\"\"\n",
    "    Draw circle using Bresenham algo\n",
    "    \"\"\"\n",
    "    \n",
    "    # make sure type is float32 pytorch tensor\n",
    "    pic = torch.zeros(size,size,dtype=torch.float32)\n",
    "    \n",
    "    x,y = 0,radius\n",
    "    err = 3 - 2 * radius\n",
    "    circ8(pic, xc, yc, x, y, mark)\n",
    "    while y >= x:    \n",
    "        x = x + 1\n",
    "        if err > 0:\n",
    "            y = y - 1\n",
    "            err = err + 4 * (x - y) + 10\n",
    "        else:\n",
    "            err = err + 4 * x + 6\n",
    "        circ8(pic, xc, yc, x, y, mark, size)\n",
    "    return pic"
   ]
  },
  {
   "cell_type": "code",
   "execution_count": 6,
   "id": "5dc1a4dc",
   "metadata": {},
   "outputs": [],
   "source": [
    "def draw_square(xc, yc, side, size, mark=1):\n",
    "    \"\"\"\n",
    "    Draw square centered at xc,yc, sidelength side\n",
    "    \"\"\"\n",
    "    \n",
    "    # make sure type is float32 pytorch tensor\n",
    "    pic = torch.zeros(size,size,dtype=torch.float32)\n",
    "    \n",
    "    x1 = xc - side//2 # integer divide\n",
    "    x2 = x1 + side\n",
    "    \n",
    "    y1 = yc - side//2\n",
    "    y2 = y1 + side\n",
    "    \n",
    "    for i in range(x1,x2+1):\n",
    "        clip_write(pic,size,i,y1,mark)\n",
    "        clip_write(pic,size,i,y2,mark)\n",
    "    for j in range(y1,y2+1):\n",
    "        clip_write(pic,size,x1,j,mark)\n",
    "        clip_write(pic,size,x2,j,mark)\n",
    "    return pic    "
   ]
  },
  {
   "cell_type": "code",
   "execution_count": 7,
   "id": "32fe941b",
   "metadata": {},
   "outputs": [],
   "source": [
    "# Create a 2D representation of a circle, radius 10 at (30,30)\n",
    "circ30 = draw_circleFast(30, 30, 10, IMG_SIZE)\n",
    "square30 = draw_square(30, 30, 10, IMG_SIZE)"
   ]
  },
  {
   "cell_type": "code",
   "execution_count": 8,
   "id": "4b0bd40f",
   "metadata": {
    "scrolled": true
   },
   "outputs": [
    {
     "data": {
      "text/plain": [
       "tensor([[0., 0., 0.,  ..., 0., 0., 0.],\n",
       "        [0., 0., 0.,  ..., 0., 0., 0.],\n",
       "        [0., 0., 0.,  ..., 0., 0., 0.],\n",
       "        ...,\n",
       "        [0., 0., 0.,  ..., 0., 0., 0.],\n",
       "        [0., 0., 0.,  ..., 0., 0., 0.],\n",
       "        [0., 0., 0.,  ..., 0., 0., 0.]])"
      ]
     },
     "execution_count": 8,
     "metadata": {},
     "output_type": "execute_result"
    }
   ],
   "source": [
    "circ30 # Output of draw_circle is a 2D array of mostly 0s"
   ]
  },
  {
   "cell_type": "code",
   "execution_count": 9,
   "id": "a9af221c",
   "metadata": {},
   "outputs": [
    {
     "data": {
      "text/plain": [
       "<matplotlib.image.AxesImage at 0x21f6640b9a0>"
      ]
     },
     "execution_count": 9,
     "metadata": {},
     "output_type": "execute_result"
    },
    {
     "data": {
      "text/plain": [
       "<Figure size 432x288 with 0 Axes>"
      ]
     },
     "metadata": {},
     "output_type": "display_data"
    },
    {
     "data": {
      "image/png": "[encoded data removed]",
      "text/plain": [
       "<Figure size 1440x720 with 2 Axes>"
      ]
     },
     "metadata": {
      "needs_background": "light"
     },
     "output_type": "display_data"
    }
   ],
   "source": [
    "# Plot our square and circle\n",
    "plt.figure()\n",
    "fig = plt.figure(figsize=(20,10))\n",
    "fig.add_subplot(1,2,1)\n",
    "plt.imshow(circ30) # Here's a visual representation of our circle\n",
    "fig.add_subplot(1,2,2)\n",
    "plt.imshow(square30)"
   ]
  },
  {
   "cell_type": "code",
   "execution_count": 10,
   "id": "a975099f",
   "metadata": {},
   "outputs": [],
   "source": [
    "class NeuralNetwork(nn.Module):\n",
    "    def __init__(self):\n",
    "        super(NeuralNetwork, self).__init__()\n",
    "        \n",
    "        self.net = nn.Sequential(\n",
    "            nn.Conv2d(\n",
    "                in_channels  = 1,\n",
    "                padding      = 0,\n",
    "                out_channels = 32, # may change?\n",
    "                kernel_size  =  5,  # may change\n",
    "                stride       =  3\n",
    "            ),\n",
    "            # image 100 wide, no padding, kernel 5, stride by 3\n",
    "            # first is [0,4], 2nd [3,7], 3rd [6,10], ... 32nd [93,97]\n",
    "            # this in each dim => 32x32 per channel from 100x100 input\n",
    "            #\n",
    "            # 32x32 - each channel recognizes a feature\n",
    "            #\n",
    "            # 32 channels => 32^3\n",
    "            #\n",
    "            nn.BatchNorm2d(32),\n",
    "            nn.Conv2d(\n",
    "                in_channels  = 32,\n",
    "                padding      = 0,\n",
    "                out_channels = 5, # may change?\n",
    "                kernel_size  = 9  # may change\n",
    "            ),\n",
    "            nn.Flatten(),\n",
    "            # 5 is out channels, 32 is in size to last conv2d, -8 for kernel size 9\n",
    "            nn.Linear(5 * (32 - 8) * (32 - 8), 3),\n",
    "            # nn.ReLU(),\n",
    "            # nn.Linear(2048, 512),\n",
    "            #nn.Linear(512, 400000), # idiots were here\n",
    "            #nn.Linear(400000, 512),\n",
    "            #nn.ReLU(),\n",
    "            #nn.Linear(512, 3),\n",
    "            nn.ReLU()\n",
    "        )\n",
    "\n",
    "\n",
    "    def forward(self, our_data):\n",
    "        x = self.net(our_data)\n",
    "        return(x)"
   ]
  },
  {
   "cell_type": "code",
   "execution_count": 11,
   "id": "b5024256",
   "metadata": {
    "scrolled": true
   },
   "outputs": [
    {
     "name": "stdout",
     "output_type": "stream",
     "text": [
      "cuda:0\n"
     ]
    },
    {
     "data": {
      "text/plain": [
       "NeuralNetwork(\n",
       "  (net): Sequential(\n",
       "    (0): Conv2d(1, 32, kernel_size=(5, 5), stride=(3, 3))\n",
       "    (1): BatchNorm2d(32, eps=1e-05, momentum=0.1, affine=True, track_running_stats=True)\n",
       "    (2): Conv2d(32, 5, kernel_size=(9, 9), stride=(1, 1))\n",
       "    (3): Flatten(start_dim=1, end_dim=-1)\n",
       "    (4): Linear(in_features=2880, out_features=3, bias=True)\n",
       "    (5): ReLU()\n",
       "  )\n",
       ")"
      ]
     },
     "execution_count": 11,
     "metadata": {},
     "output_type": "execute_result"
    }
   ],
   "source": [
    "test_net = NeuralNetwork() # Create an instance of our neural network class, name it \"net\"\n",
    "device = torch.device(\"cuda:0\" if torch.cuda.is_available() else \"cpu\") # Get the cuda device\n",
    "print(device)\n",
    "test_net.to(device)"
   ]
  },
  {
   "cell_type": "code",
   "execution_count": 12,
   "id": "166234dc",
   "metadata": {},
   "outputs": [],
   "source": [
    "def mem_used():\n",
    "    \"\"\"GB used by CUDA\"\"\"\n",
    "    print(\"{:.2f} GiB\".format(torch.cuda.memory_allocated() / (1024*1024*1024)))"
   ]
  },
  {
   "cell_type": "code",
   "execution_count": 13,
   "id": "c54268ee",
   "metadata": {},
   "outputs": [
    {
     "name": "stdout",
     "output_type": "stream",
     "text": [
      "0.00 GiB\n"
     ]
    }
   ],
   "source": [
    "mem_used()"
   ]
  },
  {
   "cell_type": "code",
   "execution_count": 14,
   "id": "597177e2",
   "metadata": {},
   "outputs": [],
   "source": [
    "# Massage circ30 (a 2D array of mostly 0s and some 1s representing a circle) into something we can use\n",
    "net_input = circ30.unsqueeze(0).unsqueeze(0)"
   ]
  },
  {
   "cell_type": "markdown",
   "id": "1340f114",
   "metadata": {},
   "source": [
    "Note: According to https://stackoverflow.com/a/59566009 Conv2D and many other layers expect input conforming to (n_samples, channels, height, width) # e.g., (1000, 1, 224, 224)\n",
    "\n",
    "So the two unsqueezes above simply pad the input with 1 sample dimension and 1 channel dimension [100, 100] -> [1, 1, 100, 100]\n",
    "\n",
    "Also, unsqueeze seems like it's helpful for hacking stuff together early on - it just adds a dimension at the specified index"
   ]
  },
  {
   "cell_type": "code",
   "execution_count": 15,
   "id": "2c70462e",
   "metadata": {},
   "outputs": [
    {
     "data": {
      "text/plain": [
       "torch.Size([1, 1, 100, 100])"
      ]
     },
     "execution_count": 15,
     "metadata": {},
     "output_type": "execute_result"
    }
   ],
   "source": [
    "net_input.shape # Our network input is of shape [1, 1, 100, 100]"
   ]
  },
  {
   "cell_type": "code",
   "execution_count": 16,
   "id": "eed872a7",
   "metadata": {},
   "outputs": [],
   "source": [
    "ans = test_net(net_input.to(device)) # Run input through the network - No training being done here, just one forward pass"
   ]
  },
  {
   "cell_type": "code",
   "execution_count": 17,
   "id": "77c89590",
   "metadata": {},
   "outputs": [
    {
     "data": {
      "text/plain": [
       "torch.Size([1, 3])"
      ]
     },
     "execution_count": 17,
     "metadata": {},
     "output_type": "execute_result"
    }
   ],
   "source": [
    "ans.shape # Show the shape of our network output"
   ]
  },
  {
   "cell_type": "code",
   "execution_count": 18,
   "id": "4d79d22d",
   "metadata": {},
   "outputs": [
    {
     "data": {
      "text/plain": [
       "tensor([[0.0000, 0.4927, 0.0000]], device='cuda:0', grad_fn=<ReluBackward0>)"
      ]
     },
     "execution_count": 18,
     "metadata": {},
     "output_type": "execute_result"
    }
   ],
   "source": [
    "ans"
   ]
  },
  {
   "cell_type": "markdown",
   "id": "6f3a73a6",
   "metadata": {},
   "source": [
    "# Create Training Data for Classifying Circles\n",
    "### We already have a circle function draw_circle(), so we just need to utilize it to create a bunch of circles matched with their radius and origin\n",
    "Following https://pytorch.org/tutorials/beginner/data_loading_tutorial.html for the below steps on how to add custom data and datasets and manipulate them via a Dataloader."
   ]
  },
  {
   "cell_type": "markdown",
   "id": "8d8d7f61",
   "metadata": {},
   "source": [
    "### Create a custom dataset to hold our training data\n",
    "##### Dataset class\n",
    "torch.utils.data.Dataset is an abstract class representing a dataset. Your custom dataset should inherit Dataset and override the following methods  \n",
    "* \\_\\_len__ so that len(dataset) returns the size of the dataset.  \n",
    "* \\_\\_getitem__ to support the indexing such that dataset[i] can be used to get iith sample."
   ]
  },
  {
   "cell_type": "code",
   "execution_count": 19,
   "id": "bb1083eb",
   "metadata": {},
   "outputs": [],
   "source": [
    "class ShapeDataset(Dataset):\n",
    "    def __init__(self, shapeFunc, num_shapes=10000, param_min=5,param_max=20, size=100):\n",
    "        randomlist=[] # List of shapes generated somewhat randomly based on position and radius\n",
    "        truthlist=[] # Cooresponding position and a parameter  for the generated shapes\n",
    "        for i in range(num_shapes):\n",
    "            parameter = random.randint(param_min, param_max)\n",
    "            x = random.randint(parameter,size-parameter-1)\n",
    "            y = random.randint(parameter,size-parameter-1)\n",
    "            s = shapeFunc(x,y,parameter,size).unsqueeze(0)\n",
    "            # Recall tensors fed through our network must have a \"channels\" dimension, in this case it's one, so we will use unsqueeze again to add it\n",
    "            # If we had e.g. Red, Green, and Blue data, we would split that into three 100x100 channels\n",
    "            # \"single\" is chosen here because it seems to be the only numpy type that plays nice with torch.double that are used throughout the network\n",
    "            truthlist.append(np.array([x,y,parameter], dtype=np.single))\n",
    "            randomlist.append(s)\n",
    "        self.samples = randomlist # Shapes\n",
    "        self.truth = truthlist # Attributes of those shapes\n",
    "    def __len__(self):\n",
    "        return len(self.samples)\n",
    "    def __getitem__(self,idx):\n",
    "        sample = {'shape': self.samples[idx], 'attributes': self.truth[idx]}\n",
    "        return sample"
   ]
  },
  {
   "cell_type": "markdown",
   "id": "4caf1268",
   "metadata": {},
   "source": [
    "### Using a dataloader allows us to\n",
    "* Batch the data\n",
    "* Shuffle the data\n",
    "* Load the data in parallel using multiprocessing workers."
   ]
  },
  {
   "cell_type": "code",
   "execution_count": 20,
   "id": "d22b2a48",
   "metadata": {},
   "outputs": [],
   "source": [
    "def check_network(network, verbose=False, draw_func=draw_circleFast):\n",
    "    radius = random.randint(4, 20)\n",
    "    x = random.randint(radius,100-radius)\n",
    "    y = random.randint(radius,100-radius)\n",
    "    shape = draw_func(x,y,radius,100).unsqueeze(0).unsqueeze(0)\n",
    "    ans = network(shape.to(device))\n",
    "    if verbose:\n",
    "        print(\"For shape at ({}, {}), r={}, net guessed:\\n{}\".format(str(x), str(y), str(radius), str(ans)))\n",
    "    truth = draw_func(x, y, radius, IMG_SIZE, 0.2)\n",
    "    guess = draw_func(int(ans[0][0]), int(ans[0][1]), int(ans[0][2]), IMG_SIZE)\n",
    "    return (truth + guess)"
   ]
  },
  {
   "cell_type": "code",
   "execution_count": 21,
   "id": "a82977b6",
   "metadata": {},
   "outputs": [],
   "source": [
    "def check_network_splatter(network, num_checks=10, writer=None, verbose=False, draw_func=draw_circleFast):\n",
    "    \"\"\"\n",
    "    Given a network and a draw function, call check_network() for the network some number of times\n",
    "    and plot the results of the check function in a single figure\n",
    "    \"\"\"\n",
    "    plt.figure()\n",
    "    num_cols = 5\n",
    "    num_rows = int((num_checks / num_cols) + (1 if (num_checks % num_cols) == 0 else 0))\n",
    "    fig = plt.figure(figsize=(20,10))#f, canvas = plt.subplots(num_rows, num_cols)\n",
    "    for check in range(num_checks):\n",
    "        fig.add_subplot(num_rows, num_cols, check + 1) # + 1 because range is 0-indexed but pyplot is 1-indexed\n",
    "        plt.imshow(check_network(network, verbose=verbose, draw_func=draw_func))\n",
    "    # Add this figure to the tensorboard log\n",
    "    if writer is not None:\n",
    "        writer.add_figure(\"Network Splatter\", fig)\n"
   ]
  },
  {
   "cell_type": "code",
   "execution_count": 22,
   "id": "8c16034b",
   "metadata": {},
   "outputs": [],
   "source": [
    "def train(learning_rate, batch_size, dataset, shuffle=True, epochs=40):\n",
    "    import time\n",
    "    \n",
    "    net = NeuralNetwork().to(device)\n",
    "    trainloader = DataLoader(dataset, batch_size=batch_size, shuffle=shuffle, num_workers=0)\n",
    "        \n",
    "    # SummaryWriter will store metrics to use with TensorBoard\n",
    "    comment = f' batch_size={batch_size} lr={lr} shuffle={shuffle} epochs={epochs}'\n",
    "    writer = SummaryWriter(comment=comment)\n",
    "            \n",
    "    #loss_func = nn.functional.cross_entropy # Cross entropy only works for 1D tensors\n",
    "    #loss_func = nn.L1Loss()\n",
    "    loss_func = nn.MSELoss()\n",
    "    optimizer = torch.optim.Adam(net.parameters(), lr=learning_rate)\n",
    "    \n",
    "    # initialize empty list to track batch losses\n",
    "    batch_losses = []\n",
    "    \n",
    "    for epoch in range(epochs):\n",
    "        \n",
    "        # Reset Iterator\n",
    "        dataiter = iter(trainloader)\n",
    "        \n",
    "        # Keep track of batch number\n",
    "        batch_number = 0\n",
    "        \n",
    "        # Keep track of time \n",
    "        last_time = time.time()\n",
    "        last_epoch = time.time()\n",
    "        \n",
    "        # Keep track of per-epoch stats\n",
    "        epoch_loss = 0\n",
    "        \n",
    "        for batch in dataiter:\n",
    "            batch_number += 1\n",
    "            \n",
    "            # Reset Gradients\n",
    "            optimizer.zero_grad()\n",
    "            \n",
    "            # Forward Pass through the network\n",
    "            out = net(batch[\"shape\"].to(device))\n",
    "        \n",
    "            # Calculate loss\n",
    "            loss = loss_func(out, batch[\"attributes\"].to(device)) # Compare our results with the truth data\n",
    "            \n",
    "            # Log the loss for TensorBoard analysis\n",
    "            # NOTE: we can track loss per batch, as this statement does, or do it per epoch later\n",
    "            #writer.add_scalar(\"Loss/train\", loss, epoch * len(dataloader) + batch_number)\n",
    "            \n",
    "            # track batch loss\n",
    "            batch_losses.append(loss.item()) # TODO what does batch_losses do?\n",
    "            epoch_loss += loss.item()\n",
    "            \n",
    "            # Backpropagate\n",
    "            loss.backward()\n",
    "                \n",
    "            # Update the parameters\n",
    "            optimizer.step()\n",
    "            \n",
    "            # Time things\n",
    "            next_time = time.time()\n",
    "            delta_time = next_time - last_time\n",
    "            last_time = next_time\n",
    "            \n",
    "        # print any stats of the network wrt training progress and loss\n",
    "        # Time things\n",
    "        next_epoch = time.time()\n",
    "        delta_epoch = next_epoch - last_epoch\n",
    "        last_epoch = next_epoch\n",
    "        # if ((epoch % 10 == 0) or (epoch % 39 == 0)) and False:\n",
    "        print(\"run_id: {}, Epoch: {}, DeltaTime = {:.2f}, LastLoss = {:.2f}\".format(\n",
    "            str(run_id),\n",
    "            str(epoch), # Epoch\n",
    "            delta_epoch,\n",
    "            epoch_loss)) # What is the loss for this batch\n",
    "        \n",
    "        # Note, \"net\" here is our neural network instance.  It looks like this:\n",
    "        \"\"\"NeuralNetwork(\n",
    "          (net): Sequential(\n",
    "            (0): Conv2d(1, 32, kernel_size=(5, 5), stride=(3, 3))\n",
    "            (1): BatchNorm2d(32, eps=1e-05, momentum=0.1, affine=True, track_running_stats=True)\n",
    "            (2): Conv2d(32, 5, kernel_size=(9, 9), stride=(1, 1))\n",
    "            (3): Flatten(start_dim=1, end_dim=-1)\n",
    "            (4): Linear(in_features=2880, out_features=2048, bias=True)\n",
    "            (5): ReLU()\n",
    "            (6): Linear(in_features=2048, out_features=512, bias=True)\n",
    "            (7): ReLU()\n",
    "            (8): Linear(in_features=512, out_features=3, bias=True)\n",
    "            (9): ReLU()\n",
    "          )\n",
    "        )\n",
    "        \"\"\"\n",
    "        # epoch stats\n",
    "        writer.add_scalar(\"Loss/train\", epoch_loss, epoch)\n",
    "        for i in range(0,6,2):\n",
    "           \n",
    "            writer.add_histogram('conv_{}.bias'.format(i),   net.net[i].bias, epoch)\n",
    "            writer.add_histogram('conv_{}.weight'.format(i), net.net[i].weight, epoch)\n",
    "        \n",
    "        #writer.add_histogram(\"convA.bias\",   net.net[0].bias, epoch)\n",
    "        #writer.add_histogram(\"conv1.weight\", net.net[0].weight, epoch)\n",
    "        #writer.add_histogram(\"conv1.bias\",   net.net[0].bias, epoch)\n",
    "        #writer.add_histogram(\"conv1.weight\", net.net[0].weight, epoch)\n",
    "        #writer.add_histogram(\"conv1.bias\",   net.net[0].bias, epoch)\n",
    "        #writer.add_histogram(\"conv1.weight\", net.net[0].weight, epoch)\n",
    "        #writer.add_histogram(\"conv1.bias\",   net.net[0].bias, epoch)\n",
    "        #writer.add_histogram(\"conv1.weight\", net.net[0].weight, epoch)\n",
    "        #writer.add_histogram(\"conv2.bias\",   net.net[0].bias, epoch)\n",
    "        #writer.add_histogram(\"conv2.weight\", net.net[0].weight, epoch)\n",
    "               \n",
    "    # See how the network did.\n",
    "    check_network_splatter(net, writer=writer)\n",
    "    writer.close()\n",
    "    return net"
   ]
  },
  {
   "cell_type": "code",
   "execution_count": 23,
   "id": "dc526cd7",
   "metadata": {
    "scrolled": true,
    "tags": []
   },
   "outputs": [
    {
     "name": "stdout",
     "output_type": "stream",
     "text": [
      "Creating dataset for shape circle with 50000 samples\n",
      "Training network with LR=0.001 BATCH=10000, SHUFFLE=True, EPOCHS=40\n",
      "run_id: 0, Epoch: 0, DeltaTime = 2.32, LastLoss = 9799.99\n",
      "run_id: 0, Epoch: 1, DeltaTime = 1.88, LastLoss = 7829.87\n",
      "run_id: 0, Epoch: 2, DeltaTime = 1.90, LastLoss = 5057.24\n",
      "run_id: 0, Epoch: 3, DeltaTime = 1.99, LastLoss = 4284.07\n",
      "run_id: 0, Epoch: 4, DeltaTime = 1.91, LastLoss = 3488.55\n",
      "run_id: 0, Epoch: 5, DeltaTime = 1.86, LastLoss = 3074.11\n",
      "run_id: 0, Epoch: 6, DeltaTime = 2.00, LastLoss = 2789.53\n",
      "run_id: 0, Epoch: 7, DeltaTime = 1.93, LastLoss = 2425.26\n",
      "run_id: 0, Epoch: 8, DeltaTime = 1.92, LastLoss = 2060.74\n",
      "run_id: 0, Epoch: 9, DeltaTime = 1.94, LastLoss = 1712.45\n",
      "run_id: 0, Epoch: 10, DeltaTime = 2.00, LastLoss = 1483.07\n",
      "run_id: 0, Epoch: 11, DeltaTime = 1.97, LastLoss = 1350.21\n",
      "run_id: 0, Epoch: 12, DeltaTime = 1.92, LastLoss = 1216.10\n",
      "run_id: 0, Epoch: 13, DeltaTime = 1.92, LastLoss = 1075.28\n",
      "run_id: 0, Epoch: 14, DeltaTime = 2.02, LastLoss = 966.73\n",
      "run_id: 0, Epoch: 15, DeltaTime = 2.06, LastLoss = 883.57\n",
      "run_id: 0, Epoch: 16, DeltaTime = 2.24, LastLoss = 805.77\n",
      "run_id: 0, Epoch: 17, DeltaTime = 2.02, LastLoss = 730.67\n",
      "run_id: 0, Epoch: 18, DeltaTime = 2.17, LastLoss = 661.57\n",
      "run_id: 0, Epoch: 19, DeltaTime = 1.96, LastLoss = 602.25\n",
      "run_id: 0, Epoch: 20, DeltaTime = 2.02, LastLoss = 554.24\n",
      "run_id: 0, Epoch: 21, DeltaTime = 1.96, LastLoss = 517.52\n",
      "run_id: 0, Epoch: 22, DeltaTime = 2.04, LastLoss = 485.04\n",
      "run_id: 0, Epoch: 23, DeltaTime = 2.08, LastLoss = 454.43\n",
      "run_id: 0, Epoch: 24, DeltaTime = 2.07, LastLoss = 425.76\n",
      "run_id: 0, Epoch: 25, DeltaTime = 2.26, LastLoss = 399.13\n",
      "run_id: 0, Epoch: 26, DeltaTime = 1.97, LastLoss = 374.61\n",
      "run_id: 0, Epoch: 27, DeltaTime = 1.99, LastLoss = 351.65\n",
      "run_id: 0, Epoch: 28, DeltaTime = 1.96, LastLoss = 331.47\n",
      "run_id: 0, Epoch: 29, DeltaTime = 1.86, LastLoss = 314.03\n",
      "run_id: 0, Epoch: 30, DeltaTime = 1.70, LastLoss = 298.60\n",
      "run_id: 0, Epoch: 31, DeltaTime = 2.06, LastLoss = 285.42\n",
      "run_id: 0, Epoch: 32, DeltaTime = 1.96, LastLoss = 274.24\n",
      "run_id: 0, Epoch: 33, DeltaTime = 1.98, LastLoss = 265.66\n",
      "run_id: 0, Epoch: 34, DeltaTime = 1.72, LastLoss = 259.31\n",
      "run_id: 0, Epoch: 35, DeltaTime = 1.94, LastLoss = 254.40\n",
      "run_id: 0, Epoch: 36, DeltaTime = 1.97, LastLoss = 250.52\n",
      "run_id: 0, Epoch: 37, DeltaTime = 2.07, LastLoss = 247.21\n",
      "run_id: 0, Epoch: 38, DeltaTime = 1.93, LastLoss = 244.54\n",
      "run_id: 0, Epoch: 39, DeltaTime = 1.91, LastLoss = 242.34\n",
      "For shape at (52, 18), r=12, net guessed:\n",
      "tensor([[51.0180, 18.4328, 12.2378]], device='cuda:0', grad_fn=<ReluBackward0>)\n",
      "For shape at (44, 57), r=7, net guessed:\n",
      "tensor([[50.0371, 47.1370, 11.7995]], device='cuda:0', grad_fn=<ReluBackward0>)\n",
      "For shape at (53, 86), r=7, net guessed:\n",
      "tensor([[51.9301, 72.0576, 12.3419]], device='cuda:0', grad_fn=<ReluBackward0>)\n",
      "For shape at (57, 14), r=11, net guessed:\n",
      "tensor([[51.8378, 14.9114, 12.3907]], device='cuda:0', grad_fn=<ReluBackward0>)\n",
      "For shape at (81, 33), r=6, net guessed:\n",
      "tensor([[80.9776, 36.1155, 13.3353]], device='cuda:0', grad_fn=<ReluBackward0>)\n",
      "For shape at (63, 51), r=17, net guessed:\n",
      "tensor([[62.8481, 49.9540, 12.4070]], device='cuda:0', grad_fn=<ReluBackward0>)\n",
      "For shape at (54, 70), r=5, net guessed:\n",
      "tensor([[47.3176, 56.7405, 11.7176]], device='cuda:0', grad_fn=<ReluBackward0>)\n",
      "For shape at (53, 22), r=6, net guessed:\n",
      "tensor([[50.5479, 33.8670, 14.5757]], device='cuda:0', grad_fn=<ReluBackward0>)\n",
      "For shape at (63, 13), r=12, net guessed:\n",
      "tensor([[62.1857, 19.0539, 12.4057]], device='cuda:0', grad_fn=<ReluBackward0>)\n",
      "For shape at (75, 90), r=5, net guessed:\n",
      "tensor([[66.1926, 76.3402, 13.3693]], device='cuda:0', grad_fn=<ReluBackward0>)\n"
     ]
    },
    {
     "data": {
      "text/plain": [
       "<Figure size 432x288 with 0 Axes>"
      ]
     },
     "metadata": {},
     "output_type": "display_data"
    },
    {
     "data": {
      "text/plain": [
       "<Figure size 432x288 with 0 Axes>"
      ]
     },
     "metadata": {},
     "output_type": "display_data"
    },
    {
     "data": {
      "image/png": "[encoded data removed]",
      "text/plain": [
       "<Figure size 1440x720 with 10 Axes>"
      ]
     },
     "metadata": {
      "needs_background": "light"
     },
     "output_type": "display_data"
    }
   ],
   "source": [
    "for run_id, (lr, batch_size, shuffle, epochs, train_shape) in enumerate(product(*param_values)):\n",
    "    dataset_size = 50000 # Should this be a hyperparameter?\n",
    "    print(\"Creating dataset for shape {} with {} samples\".format(train_shape, dataset_size))\n",
    "    draw_funcs = (draw_square,draw_circleFast) if (train_shape == \"square\") else (draw_circleFast,draw_square)\n",
    "    dataset1 = ShapeDataset(draw_funcs[0], dataset_size)\n",
    "    \n",
    "    print(\"Training network with LR={} BATCH={}, SHUFFLE={}, EPOCHS={}\".format(lr, batch_size, str(shuffle), epochs))\n",
    "    netout = train(lr, batch_size, dataset1, shuffle, epochs)\n",
    "    \n",
    "    # dataset2 = ShapeDataset(draw_funcs[1], dataset_size)\n",
    "    \n",
    "    check_network_splatter(netout, num_checks=10, draw_func=draw_funcs[0], verbose=True)"
   ]
  },
  {
   "cell_type": "code",
   "execution_count": 24,
   "id": "ecd85630",
   "metadata": {
    "tags": []
   },
   "outputs": [
    {
     "name": "stdout",
     "output_type": "stream",
     "text": [
      "0.00 GiB\n"
     ]
    }
   ],
   "source": [
    "mem_used()"
   ]
  },
  {
   "cell_type": "code",
   "execution_count": 25,
   "id": "723e8133",
   "metadata": {
    "tags": []
   },
   "outputs": [
    {
     "name": "stdout",
     "output_type": "stream",
     "text": [
      "|===========================================================================|\n",
      "|                  PyTorch CUDA memory summary, device ID 0                 |\n",
      "|---------------------------------------------------------------------------|\n",
      "|            CUDA OOMs: 0            |        cudaMalloc retries: 0         |\n",
      "|===========================================================================|\n",
      "|        Metric         | Cur Usage  | Peak Usage | Tot Alloc  | Tot Freed  |\n",
      "|---------------------------------------------------------------------------|\n",
      "| Allocated memory      |     885 KB |    7314 MB |    1994 GB |    1994 GB |\n",
      "|       from large pool |       0 KB |    7313 MB |    1994 GB |    1994 GB |\n",
      "|       from small pool |     885 KB |       1 MB |       0 GB |       0 GB |\n",
      "|---------------------------------------------------------------------------|\n",
      "| Active memory         |     885 KB |    7314 MB |    1994 GB |    1994 GB |\n",
      "|       from large pool |       0 KB |    7313 MB |    1994 GB |    1994 GB |\n",
      "|       from small pool |     885 KB |       1 MB |       0 GB |       0 GB |\n",
      "|---------------------------------------------------------------------------|\n",
      "| GPU reserved memory   |    7604 MB |    7604 MB |    7604 MB |       0 B  |\n",
      "|       from large pool |    7602 MB |    7602 MB |    7602 MB |       0 B  |\n",
      "|       from small pool |       2 MB |       2 MB |       2 MB |       0 B  |\n",
      "|---------------------------------------------------------------------------|\n",
      "| Non-releasable memory |    1163 KB |    1429 MB |  308140 MB |  308139 MB |\n",
      "|       from large pool |       0 KB |    1428 MB |  307938 MB |  307938 MB |\n",
      "|       from small pool |    1163 KB |       1 MB |     202 MB |     200 MB |\n",
      "|---------------------------------------------------------------------------|\n",
      "| Allocations           |      56    |      70    |   10079    |   10023    |\n",
      "|       from large pool |       0    |       6    |    1800    |    1800    |\n",
      "|       from small pool |      56    |      70    |    8279    |    8223    |\n",
      "|---------------------------------------------------------------------------|\n",
      "| Active allocs         |      56    |      70    |   10079    |   10023    |\n",
      "|       from large pool |       0    |       6    |    1800    |    1800    |\n",
      "|       from small pool |      56    |      70    |    8279    |    8223    |\n",
      "|---------------------------------------------------------------------------|\n",
      "| GPU reserved segments |       7    |       7    |       7    |       0    |\n",
      "|       from large pool |       6    |       6    |       6    |       0    |\n",
      "|       from small pool |       1    |       1    |       1    |       0    |\n",
      "|---------------------------------------------------------------------------|\n",
      "| Non-releasable allocs |       7    |       8    |    4164    |    4157    |\n",
      "|       from large pool |       0    |       2    |     600    |     600    |\n",
      "|       from small pool |       7    |       8    |    3564    |    3557    |\n",
      "|===========================================================================|\n",
      "\n"
     ]
    }
   ],
   "source": [
    "print(torch.cuda.memory_summary())"
   ]
  },
  {
   "cell_type": "markdown",
   "id": "7d824ce7",
   "metadata": {},
   "source": [
    "Run this command from the dirctory containing \"logdir\" to stand up tensorboard log viewer\n",
    "```sh\n",
    "tensorboard --logdir=runs\n",
    "```\n",
    "Then go to http://localhost:6006/"
   ]
  },
  {
   "cell_type": "code",
   "execution_count": null,
   "id": "2d565ce4",
   "metadata": {},
   "outputs": [],
   "source": []
  },
  {
   "cell_type": "code",
   "execution_count": null,
   "id": "8507a9a5-694f-49e3-a6f0-f38b850822a4",
   "metadata": {},
   "outputs": [],
   "source": []
  }
 ],
 "metadata": {
  "interpreter": {
   "hash": "e660af3098993ea5160fd9270f74e6db286e749e474b6bbf115c5a1892218496"
  },
  "kernelspec": {
   "display_name": "Python 3",
   "language": "python",
   "name": "python3"
  },
  "language_info": {
   "codemirror_mode": {
    "name": "ipython",
    "version": 3
   },
   "file_extension": ".py",
   "mimetype": "text/x-python",
   "name": "python",
   "nbconvert_exporter": "python",
   "pygments_lexer": "ipython3",
   "version": "3.9.5"
  }
 },
 "nbformat": 4,
 "nbformat_minor": 5
}
