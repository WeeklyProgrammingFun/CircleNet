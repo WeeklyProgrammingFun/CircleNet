{
 "cells": [
  {
   "cell_type": "markdown",
   "id": "favorite-cassette",
   "metadata": {},
   "source": [
    "# Create a neural network capable of identifying circles\n",
    "And make it run on a GPU!"
   ]
  },
  {
   "cell_type": "code",
   "execution_count": 1,
   "id": "studied-pepper",
   "metadata": {},
   "outputs": [],
   "source": [
    "import torch\n",
    "import torch.nn as nn\n",
    "import math\n",
    "import matplotlib.pyplot as plt\n",
    "import random\n",
    "from torch.utils.data import Dataset, DataLoader\n",
    "import numpy as np"
   ]
  },
  {
   "cell_type": "code",
   "execution_count": 2,
   "id": "protected-temple",
   "metadata": {},
   "outputs": [],
   "source": [
    "IMG_SIZE = 100 # All our circles will be in square this many pixels wide"
   ]
  },
  {
   "cell_type": "code",
   "execution_count": 3,
   "id": "painful-weapon",
   "metadata": {},
   "outputs": [],
   "source": [
    "def draw_circle(x,y,rad,size,mark=1):\n",
    "    \"\"\"\n",
    "    Create a binary 2D matrix representation of a circle\n",
    "    :param x: x coordinate of circle center\n",
    "    :param y: y coordinate of circle center\n",
    "    :param rad: radius of circle\n",
    "    :param size: size of the matrix (size x size)\n",
    "    :return: torch matrix (size x size) with 1s representing the circle\n",
    "    \"\"\"\n",
    "    pic = torch.zeros(size,size)\n",
    "    for i in range(size):\n",
    "        for j in range(size):\n",
    "            dx = i-x\n",
    "            dy = j-y\n",
    "            d2 = (dx*dx + dy*dy)\n",
    "            if abs(d2-(rad * rad)) < 10:\n",
    "                pic[i,j] = mark\n",
    "            else:\n",
    "                pic[i,j] = 0\n",
    "    return pic   "
   ]
  },
  {
   "cell_type": "code",
   "execution_count": 4,
   "id": "confidential-austria",
   "metadata": {},
   "outputs": [],
   "source": [
    "# Create a 2D representation of a circle, radius 10 at (30,30)\n",
    "circ30 = draw_circle(30, 30, 10, IMG_SIZE)"
   ]
  },
  {
   "cell_type": "code",
   "execution_count": 5,
   "id": "annoying-smooth",
   "metadata": {},
   "outputs": [
    {
     "data": {
      "text/plain": [
       "tensor([[0., 0., 0.,  ..., 0., 0., 0.],\n",
       "        [0., 0., 0.,  ..., 0., 0., 0.],\n",
       "        [0., 0., 0.,  ..., 0., 0., 0.],\n",
       "        ...,\n",
       "        [0., 0., 0.,  ..., 0., 0., 0.],\n",
       "        [0., 0., 0.,  ..., 0., 0., 0.],\n",
       "        [0., 0., 0.,  ..., 0., 0., 0.]])"
      ]
     },
     "execution_count": 5,
     "metadata": {},
     "output_type": "execute_result"
    }
   ],
   "source": [
    "circ30 # Output of draw_circle is a 2D array of mostly 0s"
   ]
  },
  {
   "cell_type": "code",
   "execution_count": 6,
   "id": "ancient-district",
   "metadata": {},
   "outputs": [
    {
     "data": {
      "text/plain": [
       "<matplotlib.image.AxesImage at 0x1ca8b6321c0>"
      ]
     },
     "execution_count": 6,
     "metadata": {},
     "output_type": "execute_result"
    },
    {
     "data": {
      "image/png": "[encoded data removed]",
      "text/plain": [
       "<Figure size 432x288 with 1 Axes>"
      ]
     },
     "metadata": {
      "needs_background": "light"
     },
     "output_type": "display_data"
    }
   ],
   "source": [
    "plt.imshow(circ30) # Here's a visual representation of our circle"
   ]
  },
  {
   "cell_type": "code",
   "execution_count": 7,
   "id": "attractive-intranet",
   "metadata": {},
   "outputs": [],
   "source": [
    "class NeuralNetwork(nn.Module):\n",
    "    def __init__(self):\n",
    "        super(NeuralNetwork, self).__init__()\n",
    "        \n",
    "        self.net = nn.Sequential(\n",
    "            nn.Conv2d(\n",
    "                in_channels  = 1,\n",
    "                padding      = 0,\n",
    "                out_channels = 32, # may change?\n",
    "                kernel_size  = 4  # may change\n",
    "            ),\n",
    "            nn.BatchNorm2d(32),\n",
    "            nn.Conv2d(\n",
    "                in_channels  = 32,\n",
    "                padding      = 0,\n",
    "                out_channels = 5, # may change?\n",
    "                kernel_size  = 9  # may change\n",
    "            ),\n",
    "            nn.Flatten(),\n",
    "            nn.Linear(5 * (97 - 8) * (97 - 8), 2048),\n",
    "            nn.ReLU(),\n",
    "            nn.Linear(2048, 512),\n",
    "            nn.ReLU(),\n",
    "            nn.Linear(512, 3),\n",
    "            nn.ReLU()\n",
    "        )\n",
    "\n",
    "        ###size = 301088        \n",
    "        ###self.linear_relu_stack = nn.Sequential(\n",
    "        ###    nn.Linear(size, 2048),\n",
    "        ###    nn.ReLU(),\n",
    "        ###    nn.Linear(2048, 512),\n",
    "        ###    nn.ReLU(),\n",
    "        ###    nn.Linear(512, 3),\n",
    "        ###    nn.ReLU()\n",
    "        ###)\n",
    "\n",
    "    def forward(self, our_data):\n",
    "        ###x21 = self.conv_stage_1(our_data)\n",
    "        ###x2 = self.conv_stage_2(x21)\n",
    "        #### x2 = self.flatten(x1)\n",
    "        #### logits = self.linear_relu_stack(x2)\n",
    "        #### return logits\n",
    "        ###x3 = self.flatten(x2)\n",
    "        ###x4 = self.linear_relu_stack(x3)\n",
    "        ###return x4\n",
    "        x = self.net(our_data)\n",
    "        return(x)"
   ]
  },
  {
   "cell_type": "code",
   "execution_count": 8,
   "id": "cultural-central",
   "metadata": {},
   "outputs": [
    {
     "name": "stdout",
     "output_type": "stream",
     "text": [
      "cuda:0\n"
     ]
    },
    {
     "data": {
      "text/plain": [
       "NeuralNetwork(\n",
       "  (net): Sequential(\n",
       "    (0): Conv2d(1, 32, kernel_size=(4, 4), stride=(1, 1))\n",
       "    (1): BatchNorm2d(32, eps=1e-05, momentum=0.1, affine=True, track_running_stats=True)\n",
       "    (2): Conv2d(32, 5, kernel_size=(9, 9), stride=(1, 1))\n",
       "    (3): Flatten(start_dim=1, end_dim=-1)\n",
       "    (4): Linear(in_features=39605, out_features=2048, bias=True)\n",
       "    (5): ReLU()\n",
       "    (6): Linear(in_features=2048, out_features=512, bias=True)\n",
       "    (7): ReLU()\n",
       "    (8): Linear(in_features=512, out_features=3, bias=True)\n",
       "    (9): ReLU()\n",
       "  )\n",
       ")"
      ]
     },
     "execution_count": 8,
     "metadata": {},
     "output_type": "execute_result"
    }
   ],
   "source": [
    "net = NeuralNetwork() # Create an instance of our neural network class, name it \"net\"\n",
    "device = torch.device(\"cuda:0\" if torch.cuda.is_available() else \"cpu\") # Get the cuda device\n",
    "print(device)\n",
    "net.to(device)"
   ]
  },
  {
   "cell_type": "code",
   "execution_count": 9,
   "id": "liked-clearance",
   "metadata": {},
   "outputs": [],
   "source": [
    "# Massage circ30 (a 2D array of mostly 0s and some 1s representing a circle) into something we can use\n",
    "net_input = circ30.unsqueeze(0).unsqueeze(0)"
   ]
  },
  {
   "cell_type": "markdown",
   "id": "written-closer",
   "metadata": {},
   "source": [
    "Note: According to https://stackoverflow.com/a/59566009 Conv2D and many other layers expect input conforming to (n_samples, channels, height, width) # e.g., (1000, 1, 224, 224)\n",
    "\n",
    "So the two unsqueezes above simply pad the input with 1 sample dimension and 1 channel dimension [100, 100] -> [1, 1, 100, 100]\n",
    "\n",
    "Also, unsqueeze seems like it's helpful for hacking stuff together early on - it just adds a dimension at the specified index"
   ]
  },
  {
   "cell_type": "code",
   "execution_count": 10,
   "id": "beneficial-accounting",
   "metadata": {},
   "outputs": [
    {
     "data": {
      "text/plain": [
       "torch.Size([1, 1, 100, 100])"
      ]
     },
     "execution_count": 10,
     "metadata": {},
     "output_type": "execute_result"
    }
   ],
   "source": [
    "net_input.shape # Our network input is of shape [1, 1, 100, 100]"
   ]
  },
  {
   "cell_type": "code",
   "execution_count": 11,
   "id": "documented-manchester",
   "metadata": {},
   "outputs": [],
   "source": [
    "ans = net(net_input.to(device)) # Run input through the network - No training being done here, just one forward pass"
   ]
  },
  {
   "cell_type": "code",
   "execution_count": 12,
   "id": "preceding-islam",
   "metadata": {},
   "outputs": [
    {
     "data": {
      "text/plain": [
       "torch.Size([1, 3])"
      ]
     },
     "execution_count": 12,
     "metadata": {},
     "output_type": "execute_result"
    }
   ],
   "source": [
    "ans.shape # Show the shape of our network output"
   ]
  },
  {
   "cell_type": "code",
   "execution_count": 13,
   "id": "higher-fitness",
   "metadata": {},
   "outputs": [
    {
     "data": {
      "text/plain": [
       "tensor([[0.0000, 0.0000, 0.0315]], device='cuda:0', grad_fn=<ReluBackward0>)"
      ]
     },
     "execution_count": 13,
     "metadata": {},
     "output_type": "execute_result"
    }
   ],
   "source": [
    "ans"
   ]
  },
  {
   "cell_type": "markdown",
   "id": "tired-amber",
   "metadata": {},
   "source": [
    "# Create Training Data for Classifying Circles\n",
    "### We already have a circle function draw_circle(), so we just need to utilize it to create a bunch of circles matched with their radius and origin\n",
    "Following https://pytorch.org/tutorials/beginner/data_loading_tutorial.html for the below steps on how to add custom data and datasets and manipulate them via a Dataloader."
   ]
  },
  {
   "cell_type": "markdown",
   "id": "fatal-holocaust",
   "metadata": {},
   "source": [
    "### Create a custom dataset to hold our training data\n",
    "##### Dataset class\n",
    "torch.utils.data.Dataset is an abstract class representing a dataset. Your custom dataset should inherit Dataset and override the following methods  \n",
    "* \\_\\_len__ so that len(dataset) returns the size of the dataset.  \n",
    "* \\_\\_getitem__ to support the indexing such that dataset[i] can be used to get iith sample."
   ]
  },
  {
   "cell_type": "code",
   "execution_count": 14,
   "id": "everyday-watts",
   "metadata": {},
   "outputs": [],
   "source": [
    "class CircleDataset(Dataset):\n",
    "    def __init__(self, num_circles=10000, r_min=5, r_max=20, size=100):\n",
    "        randomlist=[] # List of circles generated somewhat randomly based on position and radius\n",
    "        truthlist=[] # Cooresponding position and radius data for the generated circles\n",
    "        for i in range(num_circles):\n",
    "            radius = random.randint(r_min, r_max)\n",
    "            x = random.randint(radius,size-radius)\n",
    "            y = random.randint(radius,size-radius)\n",
    "            c = draw_circle(x,y,radius,size).unsqueeze(0)\n",
    "            # Recall tensors fed through our network must have a \"channels\" dimension, in this case it's one, so we will use unsqueeze again to add it\n",
    "            # If we had e.g. Red, Green, and Blue data, we would split that into three 100x100 channels\n",
    "            # \"single\" is chosen here because it seems to be the only numpy type that plays nice with torch.double that are used throughout the network\n",
    "            truthlist.append(np.array([x,y,radius], dtype=np.single))\n",
    "            randomlist.append(c)\n",
    "        self.samples = randomlist # Circles\n",
    "        self.truth = truthlist # Attributes of those circles\n",
    "    def __len__(self):\n",
    "        return len(self.samples)\n",
    "    def __getitem__(self,idx):\n",
    "        sample = {'circle': self.samples[idx], 'attributes': self.truth[idx]}\n",
    "        return sample #(self.samples[idx], self.truth[idx])"
   ]
  },
  {
   "cell_type": "code",
   "execution_count": 15,
   "id": "deluxe-notion",
   "metadata": {},
   "outputs": [],
   "source": [
    "dataset = CircleDataset(100) # TODO <- This takes WAY too long to just generate some circles... What gives?"
   ]
  },
  {
   "cell_type": "markdown",
   "id": "stopped-sussex",
   "metadata": {},
   "source": [
    "### Using a dataloader allows us to\n",
    "* Batch the data\n",
    "* Shuffle the data\n",
    "* Load the data in parallel using multiprocessing workers."
   ]
  },
  {
   "cell_type": "code",
   "execution_count": 16,
   "id": "private-exclusion",
   "metadata": {},
   "outputs": [],
   "source": [
    "dataloader = DataLoader(dataset, batch_size=10, shuffle=True, num_workers=0)#, pin_memory=True)\n",
    "# pin_memory makes CPU/MEM -> GPU/MEM transfers quicker, but may increase memory requirements."
   ]
  },
  {
   "cell_type": "code",
   "execution_count": 17,
   "id": "joint-federation",
   "metadata": {},
   "outputs": [],
   "source": [
    "def train():\n",
    "    import time\n",
    "    \n",
    "    #loss_func = nn.functional.cross_entropy # Cross entropy only works for 1D tensors\n",
    "    #loss_func = nn.L1Loss()\n",
    "    loss_func = nn.MSELoss()\n",
    "    optimizer = torch.optim.Adam(net.parameters(), lr=0.001)\n",
    "    \n",
    "    # initialize empty list to track batch losses\n",
    "    batch_losses = []\n",
    "    \n",
    "    for epoch in range(50):\n",
    "        \n",
    "        # Reset Iterator\n",
    "        dataiter = iter(dataloader)\n",
    "        \n",
    "        # Keep track of batch number\n",
    "        batch_number = 0\n",
    "        \n",
    "        # Keep track of time \n",
    "        last_time = time.time()\n",
    "        last_epoch = time.time()\n",
    "        \n",
    "        for batch in dataiter:\n",
    "            batch_number += 1\n",
    "            \n",
    "            # Reset Gradients\n",
    "            optimizer.zero_grad()\n",
    "            \n",
    "            # Forward Pass through the network\n",
    "            out = net(batch[\"circle\"].to(device))\n",
    "        \n",
    "            # Calculate loss\n",
    "            ###print(batch[\"attributes\"][0])\n",
    "            ###print(out[0])\n",
    "            loss = loss_func(out, batch[\"attributes\"].to(device)) # Compare our results with the truth data\n",
    "            \n",
    "            # track batch loss\n",
    "            batch_losses.append(loss.item())\n",
    "            \n",
    "            # Backpropagate\n",
    "            loss.backward()\n",
    "            \n",
    "            # Update the parameters\n",
    "            optimizer.step()\n",
    "            \n",
    "            # Time things\n",
    "            next_time = time.time()\n",
    "            delta_time = next_time - last_time\n",
    "            last_time = next_time\n",
    "            \n",
    "            \n",
    "            \"\"\"\n",
    "            # print any stats of the network wrt training progress and loss\n",
    "            print(\"Epoch: {}, [{}/{} ({:.0f}%)]\\tLoss: {:.6f}, DeltaTime = {}\".format(\n",
    "                str(epoch), # Epoch\n",
    "                str(batch_number * len(batch[\"circle\"])), # How many samples have we processed\n",
    "                str(len(dataloader.dataset)), # How many samples are there in total\n",
    "                100. * batch_number / len(dataloader), # What percentage of this epoch have we processed\n",
    "                loss.item(),\n",
    "                delta_time)) # What is the loss for this batch\n",
    "            \"\"\"\n",
    "        # print any stats of the network wrt training progress and loss\n",
    "        # Time things\n",
    "        next_epoch = time.time()\n",
    "        delta_epoch = next_epoch - last_epoch\n",
    "        last_epoch = next_epoch\n",
    "        print(\"Epoch: {}, DeltaTime = {:.2f}, LastLoss = {:.2f}\".format(\n",
    "            str(epoch), # Epoch\n",
    "            delta_epoch,\n",
    "            batch_losses[-1])) # What is the loss for this batch            "
   ]
  },
  {
   "cell_type": "code",
   "execution_count": 18,
   "id": "compatible-large",
   "metadata": {
    "tags": []
   },
   "outputs": [
    {
     "name": "stdout",
     "output_type": "stream",
     "text": [
      "Epoch: 0, DeltaTime = 0.31, LastLoss = 374.42\n",
      "Epoch: 1, DeltaTime = 0.21, LastLoss = 598.09\n",
      "Epoch: 2, DeltaTime = 0.22, LastLoss = 690.55\n",
      "Epoch: 3, DeltaTime = 0.21, LastLoss = 424.38\n",
      "Epoch: 4, DeltaTime = 0.21, LastLoss = 221.77\n",
      "Epoch: 5, DeltaTime = 0.21, LastLoss = 155.02\n",
      "Epoch: 6, DeltaTime = 0.21, LastLoss = 210.62\n",
      "Epoch: 7, DeltaTime = 0.21, LastLoss = 139.98\n",
      "Epoch: 8, DeltaTime = 0.21, LastLoss = 26.66\n",
      "Epoch: 9, DeltaTime = 0.21, LastLoss = 46.46\n",
      "Epoch: 10, DeltaTime = 0.21, LastLoss = 14.25\n",
      "Epoch: 11, DeltaTime = 0.21, LastLoss = 6.90\n",
      "Epoch: 12, DeltaTime = 0.21, LastLoss = 7.73\n",
      "Epoch: 13, DeltaTime = 0.21, LastLoss = 6.29\n",
      "Epoch: 14, DeltaTime = 0.21, LastLoss = 3.00\n",
      "Epoch: 15, DeltaTime = 0.21, LastLoss = 5.17\n",
      "Epoch: 16, DeltaTime = 0.21, LastLoss = 1.11\n",
      "Epoch: 17, DeltaTime = 0.21, LastLoss = 1.68\n",
      "Epoch: 18, DeltaTime = 0.21, LastLoss = 0.69\n",
      "Epoch: 19, DeltaTime = 0.21, LastLoss = 0.69\n",
      "Epoch: 20, DeltaTime = 0.21, LastLoss = 1.93\n",
      "Epoch: 21, DeltaTime = 0.21, LastLoss = 1.56\n",
      "Epoch: 22, DeltaTime = 0.21, LastLoss = 5.31\n",
      "Epoch: 23, DeltaTime = 0.21, LastLoss = 2.00\n",
      "Epoch: 24, DeltaTime = 0.21, LastLoss = 2.46\n",
      "Epoch: 25, DeltaTime = 0.21, LastLoss = 1.20\n",
      "Epoch: 26, DeltaTime = 0.21, LastLoss = 0.81\n",
      "Epoch: 27, DeltaTime = 0.21, LastLoss = 1.29\n",
      "Epoch: 28, DeltaTime = 0.21, LastLoss = 1.14\n",
      "Epoch: 29, DeltaTime = 0.21, LastLoss = 2.34\n",
      "Epoch: 30, DeltaTime = 0.21, LastLoss = 1.23\n",
      "Epoch: 31, DeltaTime = 0.21, LastLoss = 1.62\n",
      "Epoch: 32, DeltaTime = 0.21, LastLoss = 3.12\n",
      "Epoch: 33, DeltaTime = 0.21, LastLoss = 2.03\n",
      "Epoch: 34, DeltaTime = 0.21, LastLoss = 2.07\n",
      "Epoch: 35, DeltaTime = 0.21, LastLoss = 2.04\n",
      "Epoch: 36, DeltaTime = 0.21, LastLoss = 5.03\n",
      "Epoch: 37, DeltaTime = 0.21, LastLoss = 2.32\n",
      "Epoch: 38, DeltaTime = 0.21, LastLoss = 0.94\n",
      "Epoch: 39, DeltaTime = 0.21, LastLoss = 5.41\n",
      "Epoch: 40, DeltaTime = 0.21, LastLoss = 6.71\n",
      "Epoch: 41, DeltaTime = 0.21, LastLoss = 15.51\n",
      "Epoch: 42, DeltaTime = 0.21, LastLoss = 6.69\n",
      "Epoch: 43, DeltaTime = 0.21, LastLoss = 4.89\n",
      "Epoch: 44, DeltaTime = 0.21, LastLoss = 6.44\n",
      "Epoch: 45, DeltaTime = 0.21, LastLoss = 4.60\n",
      "Epoch: 46, DeltaTime = 0.21, LastLoss = 3.75\n",
      "Epoch: 47, DeltaTime = 0.21, LastLoss = 7.26\n",
      "Epoch: 48, DeltaTime = 0.23, LastLoss = 9.03\n",
      "Epoch: 49, DeltaTime = 0.22, LastLoss = 3.94\n"
     ]
    }
   ],
   "source": [
    "train()"
   ]
  },
  {
   "cell_type": "code",
   "execution_count": 19,
   "id": "broken-enterprise",
   "metadata": {},
   "outputs": [],
   "source": [
    "def check_circle_network(network):\n",
    "    radius = random.randint(4, 20)\n",
    "    x = random.randint(radius,100-radius)\n",
    "    y = random.randint(radius,100-radius)\n",
    "    circle = draw_circle(x,y,radius,100).unsqueeze(0).unsqueeze(0)\n",
    "    ans = network(circle.to(device))\n",
    "    print(\"For circle at ({}, {}), r={}, net guessed:\\n{}\".format(str(x), str(y), str(radius), str(ans)))\n",
    "    truth = draw_circle(x, y, radius, IMG_SIZE, 0.2)\n",
    "    guess = draw_circle(int(ans[0][0]), int(ans[0][1]), int(ans[0][2]), IMG_SIZE)\n",
    "    return (truth + guess)"
   ]
  },
  {
   "cell_type": "code",
   "execution_count": 20,
   "id": "comic-papua",
   "metadata": {},
   "outputs": [],
   "source": [
    "def check_network_splatter(network, num_checks=10):\n",
    "    plt.figure()\n",
    "    num_cols = 5\n",
    "    num_rows = int((num_checks / num_cols) + (1 if (num_checks % num_cols) == 0 else 0))\n",
    "    fig = plt.figure(figsize=(20,10))#f, canvas = plt.subplots(num_rows, num_cols)\n",
    "    for check in range(num_checks):\n",
    "        #canvas[check].imshow(check_circle_network(network))\n",
    "        fig.add_subplot(num_rows, num_cols, check + 1) # + 1 because range is 0-indexed but pyplot is 1-indexed\n",
    "        plt.imshow(check_circle_network(network))\n"
   ]
  },
  {
   "cell_type": "code",
   "execution_count": 21,
   "id": "ba1bad9b-c3f3-42b0-8060-c26754e39d05",
   "metadata": {},
   "outputs": [
    {
     "name": "stdout",
     "output_type": "stream",
     "text": [
      "For circle at (30, 36), r=15, net guessed:\n",
      "tensor([[26.5731, 33.9438, 14.6016]], device='cuda:0', grad_fn=<ReluBackward0>)\n",
      "For circle at (62, 77), r=18, net guessed:\n",
      "tensor([[50.3321, 62.5564, 11.2293]], device='cuda:0', grad_fn=<ReluBackward0>)\n",
      "For circle at (48, 31), r=18, net guessed:\n",
      "tensor([[33.8621, 22.1693, 10.2998]], device='cuda:0', grad_fn=<ReluBackward0>)\n",
      "For circle at (57, 44), r=18, net guessed:\n",
      "tensor([[40.3423, 31.6440, 10.4257]], device='cuda:0', grad_fn=<ReluBackward0>)\n",
      "For circle at (40, 41), r=17, net guessed:\n",
      "tensor([[26.9466, 28.1801, 11.2756]], device='cuda:0', grad_fn=<ReluBackward0>)\n",
      "For circle at (47, 26), r=13, net guessed:\n",
      "tensor([[48.7826, 26.8389, 15.2976]], device='cuda:0', grad_fn=<ReluBackward0>)\n",
      "For circle at (44, 56), r=14, net guessed:\n",
      "tensor([[34.4994, 44.8433, 10.4453]], device='cuda:0', grad_fn=<ReluBackward0>)\n",
      "For circle at (74, 85), r=13, net guessed:\n",
      "tensor([[68.9615, 77.1361,  9.3288]], device='cuda:0', grad_fn=<ReluBackward0>)\n",
      "For circle at (31, 39), r=16, net guessed:\n",
      "tensor([[25.7635, 35.2582, 13.4749]], device='cuda:0', grad_fn=<ReluBackward0>)\n",
      "For circle at (45, 30), r=12, net guessed:\n",
      "tensor([[41.3237, 27.7608, 13.2827]], device='cuda:0', grad_fn=<ReluBackward0>)\n"
     ]
    },
    {
     "data": {
      "text/plain": [
       "<Figure size 432x288 with 0 Axes>"
      ]
     },
     "metadata": {},
     "output_type": "display_data"
    },
    {
     "data": {
      "image/png": "[encoded data removed]",
      "text/plain": [
       "<Figure size 1440x720 with 10 Axes>"
      ]
     },
     "metadata": {
      "needs_background": "light"
     },
     "output_type": "display_data"
    }
   ],
   "source": [
    "check_network_splatter(net)"
   ]
  },
  {
   "cell_type": "code",
   "execution_count": 22,
   "id": "c2a12723-7b2c-4bf5-992c-972a684a67f2",
   "metadata": {},
   "outputs": [
    {
     "name": "stdout",
     "output_type": "stream",
     "text": [
      "|===========================================================================|\n",
      "|                  PyTorch CUDA memory summary, device ID 0                 |\n",
      "|---------------------------------------------------------------------------|\n",
      "|            CUDA OOMs: 0            |        cudaMalloc retries: 0         |\n",
      "|===========================================================================|\n",
      "|        Metric         | Cur Usage  | Peak Usage | Tot Alloc  | Tot Freed  |\n",
      "|---------------------------------------------------------------------------|\n",
      "| Allocated memory      |  645786 KB |    1878 MB |  497305 MB |  496674 MB |\n",
      "|       from large pool |  645425 KB |    1878 MB |  496803 MB |  496173 MB |\n",
      "|       from small pool |     361 KB |       1 MB |     501 MB |     501 MB |\n",
      "|---------------------------------------------------------------------------|\n",
      "| Active memory         |  645786 KB |    1878 MB |  497305 MB |  496674 MB |\n",
      "|       from large pool |  645425 KB |    1878 MB |  496803 MB |  496173 MB |\n",
      "|       from small pool |     361 KB |       1 MB |     501 MB |     501 MB |\n",
      "|---------------------------------------------------------------------------|\n",
      "| GPU reserved memory   |    1914 MB |    1914 MB |    1914 MB |       0 B  |\n",
      "|       from large pool |    1912 MB |    1912 MB |    1912 MB |       0 B  |\n",
      "|       from small pool |       2 MB |       2 MB |       2 MB |       0 B  |\n",
      "|---------------------------------------------------------------------------|\n",
      "| Non-releasable memory |   32102 KB |  329578 KB |  174702 MB |  174671 MB |\n",
      "|       from large pool |   30415 KB |  328428 KB |  174199 MB |  174169 MB |\n",
      "|       from small pool |    1687 KB |    2046 KB |     503 MB |     501 MB |\n",
      "|---------------------------------------------------------------------------|\n",
      "| Allocations           |      39    |      80    |   31924    |   31885    |\n",
      "|       from large pool |       6    |      15    |    6028    |    6022    |\n",
      "|       from small pool |      33    |      67    |   25896    |   25863    |\n",
      "|---------------------------------------------------------------------------|\n",
      "| Active allocs         |      39    |      80    |   31924    |   31885    |\n",
      "|       from large pool |       6    |      15    |    6028    |    6022    |\n",
      "|       from small pool |      33    |      67    |   25896    |   25863    |\n",
      "|---------------------------------------------------------------------------|\n",
      "| GPU reserved segments |      10    |      10    |      10    |       0    |\n",
      "|       from large pool |       9    |       9    |       9    |       0    |\n",
      "|       from small pool |       1    |       1    |       1    |       0    |\n",
      "|---------------------------------------------------------------------------|\n",
      "| Non-releasable allocs |       9    |      15    |   16145    |   16136    |\n",
      "|       from large pool |       2    |       4    |    2013    |    2011    |\n",
      "|       from small pool |       7    |      11    |   14132    |   14125    |\n",
      "|===========================================================================|\n",
      "\n"
     ]
    }
   ],
   "source": [
    "print(torch.cuda.memory_summary())"
   ]
  }
 ],
 "metadata": {
  "kernelspec": {
   "display_name": "Python 3 (ipykernel)",
   "language": "python",
   "name": "python3"
  },
  "language_info": {
   "codemirror_mode": {
    "name": "ipython",
    "version": 3
   },
   "file_extension": ".py",
   "mimetype": "text/x-python",
   "name": "python",
   "nbconvert_exporter": "python",
   "pygments_lexer": "ipython3",
   "version": "3.8.9"
  }
 },
 "nbformat": 4,
 "nbformat_minor": 5
}
