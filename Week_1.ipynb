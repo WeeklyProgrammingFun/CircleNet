{
 "cells": [
  {
   "cell_type": "markdown",
   "id": "revised-clothing",
   "metadata": {},
   "source": [
    "# Today's challenge: Create a neural network capable of identifying circles\n",
    "Bonus points for identifying circle center and radius?"
   ]
  },
  {
   "cell_type": "code",
   "execution_count": 1,
   "id": "sharp-lucas",
   "metadata": {},
   "outputs": [],
   "source": [
    "import torch\n",
    "import torch.nn as nn\n",
    "import math\n",
    "import matplotlib.pyplot as plt"
   ]
  },
  {
   "cell_type": "code",
   "execution_count": 2,
   "id": "cultural-block",
   "metadata": {},
   "outputs": [],
   "source": [
    "IMG_SIZE = 100 # All our circles will be in square this many pixels wide"
   ]
  },
  {
   "cell_type": "code",
   "execution_count": 3,
   "id": "overall-overall",
   "metadata": {},
   "outputs": [],
   "source": [
    "def draw_circle(x,y,rad,size):\n",
    "    \"\"\"\n",
    "    Create a binary 2D matrix representation of a circle\n",
    "    :param x: x coordinate of circle center\n",
    "    :param y: y coordinate of circle center\n",
    "    :param rad: radius of circle\n",
    "    :param size: size of the matrix (size x size)\n",
    "    :return: torch matrix (size x size) with 1s representing the circle\n",
    "    \"\"\"\n",
    "    pic = torch.zeros(size,size)\n",
    "    for i in range(size):\n",
    "        for j in range(size):\n",
    "            dx = i-x\n",
    "            dy = j-y\n",
    "            d = math.sqrt(dx*dx + dy*dy)\n",
    "            if abs(d-rad) < 1.5:\n",
    "                pic[i,j] = 1\n",
    "            else:\n",
    "                pic[i,j] = 0\n",
    "    return pic   "
   ]
  },
  {
   "cell_type": "code",
   "execution_count": 4,
   "id": "static-estonia",
   "metadata": {},
   "outputs": [],
   "source": [
    "# Create a 2D representation of a circle, radius 10 at (30,30)\n",
    "circ30 = draw_circle(30, 30, 10, IMG_SIZE)"
   ]
  },
  {
   "cell_type": "code",
   "execution_count": 5,
   "id": "incident-helen",
   "metadata": {},
   "outputs": [
    {
     "data": {
      "text/plain": [
       "tensor([[0., 0., 0.,  ..., 0., 0., 0.],\n",
       "        [0., 0., 0.,  ..., 0., 0., 0.],\n",
       "        [0., 0., 0.,  ..., 0., 0., 0.],\n",
       "        ...,\n",
       "        [0., 0., 0.,  ..., 0., 0., 0.],\n",
       "        [0., 0., 0.,  ..., 0., 0., 0.],\n",
       "        [0., 0., 0.,  ..., 0., 0., 0.]])"
      ]
     },
     "execution_count": 5,
     "metadata": {},
     "output_type": "execute_result"
    }
   ],
   "source": [
    "circ30 # Output of draw_circle is a 2D array of mostly 0s"
   ]
  },
  {
   "cell_type": "code",
   "execution_count": 6,
   "id": "planned-honduras",
   "metadata": {},
   "outputs": [
    {
     "data": {
      "text/plain": [
       "<matplotlib.image.AxesImage at 0x1f87f2079e8>"
      ]
     },
     "execution_count": 6,
     "metadata": {},
     "output_type": "execute_result"
    },
    {
     "data": {
      "image/png": "[encoded data removed]",
      "text/plain": [
       "<Figure size 432x288 with 1 Axes>"
      ]
     },
     "metadata": {
      "needs_background": "light"
     },
     "output_type": "display_data"
    }
   ],
   "source": [
    "plt.imshow(circ30) # Here's a visual representation of our circle"
   ]
  },
  {
   "cell_type": "code",
   "execution_count": 7,
   "id": "ambient-spell",
   "metadata": {},
   "outputs": [],
   "source": [
    "    class NeuralNetwork(nn.Module):\n",
    "        def __init__(self):\n",
    "            super(NeuralNetwork, self).__init__()\n",
    "\n",
    "            self.conv_stage_1 = nn.Conv2d(\n",
    "                in_channels  = 1,\n",
    "                padding      = 0,\n",
    "                out_channels = 1, # may change?\n",
    "                kernel_size  = 4  # may change\n",
    "                )\n",
    "\n",
    "            self.flatten = nn.Flatten()\n",
    "            self.linear_relu_stack = nn.Sequential(\n",
    "                nn.Linear(28*28, 512),\n",
    "                nn.ReLU(),\n",
    "                nn.Linear(512, 512),\n",
    "                nn.ReLU(),\n",
    "                nn.Linear(512, 10),\n",
    "                nn.ReLU()\n",
    "            )\n",
    "\n",
    "        def forward(self, our_data):\n",
    "            x2 = self.conv_stage_1(our_data)\n",
    "            # x2 = self.flatten(x1)\n",
    "            # logits = self.linear_relu_stack(x2)\n",
    "            # return logits\n",
    "            return x2"
   ]
  },
  {
   "cell_type": "code",
   "execution_count": 8,
   "id": "abandoned-vulnerability",
   "metadata": {},
   "outputs": [],
   "source": [
    "net = NeuralNetwork() # Create an instance of our neural network class, name it \"net\""
   ]
  },
  {
   "cell_type": "code",
   "execution_count": 9,
   "id": "unlikely-pepper",
   "metadata": {},
   "outputs": [],
   "source": [
    "# Massage circ30 (a 2D array of mostly 0s and some 1s representing a circle) into something we can use\n",
    "net_input = circ30.unsqueeze(0).unsqueeze(0)"
   ]
  },
  {
   "cell_type": "markdown",
   "id": "consecutive-cancellation",
   "metadata": {},
   "source": [
    "Note: According to https://stackoverflow.com/a/59566009 Conv2D and many other layers expect input conforming to (n_samples, channels, height, width) # e.g., (1000, 1, 224, 224)\n",
    "\n",
    "So the two unsqueezes above simply pad the input with 1 sample dimension and 1 channel dimension [100, 100] -> [1, 1, 100, 100]\n",
    "\n",
    "Also, unsqueeze seems like it's helpful for hacking stuff together early on - it just adds a dimension at the specified index"
   ]
  },
  {
   "cell_type": "code",
   "execution_count": 10,
   "id": "equivalent-method",
   "metadata": {},
   "outputs": [
    {
     "data": {
      "text/plain": [
       "torch.Size([1, 1, 100, 100])"
      ]
     },
     "execution_count": 10,
     "metadata": {},
     "output_type": "execute_result"
    }
   ],
   "source": [
    "net_input.shape # Our network input is of shape [1, 1, 100, 100]"
   ]
  },
  {
   "cell_type": "code",
   "execution_count": 11,
   "id": "material-philippines",
   "metadata": {},
   "outputs": [],
   "source": [
    "ans = net(net_input) # Run input through the network - No training being done here, just one forward pass"
   ]
  },
  {
   "cell_type": "code",
   "execution_count": 12,
   "id": "chemical-above",
   "metadata": {},
   "outputs": [
    {
     "data": {
      "text/plain": [
       "torch.Size([1, 1, 97, 97])"
      ]
     },
     "execution_count": 12,
     "metadata": {},
     "output_type": "execute_result"
    }
   ],
   "source": [
    "ans.shape # Show the shape of our network output"
   ]
  },
  {
   "cell_type": "markdown",
   "id": "marine-charger",
   "metadata": {},
   "source": [
    "### Question: We lose 3 pixels (100 -> 97).  Why?  Padding?  Stride?  Kernel Size?\n",
    "\n",
    "If the kernal is focused near the edge of the picture, we could lose some data (unless we pad the edges by the correct amount) Given padding of 0 and kernel size 4, we likely lose one pixel to the edge on one side and two pixels to the edge on the other side.\n",
    "\n",
    "I think the best way to make sure the image doesn't shrink or embiggen is to use an odd sized kernel (so we use same padding/overlap on all sides) and have a padding of (kernel size / 2) rounded down to account for the remainder pixel in the middle.\n",
    "\n",
    "Alternatively, If the stride is such that we \"skip\" some pixels, the image will be shrunk (not the case here though stride = 1 so we hit every pixel)"
   ]
  },
  {
   "cell_type": "code",
   "execution_count": 13,
   "id": "soviet-article",
   "metadata": {},
   "outputs": [
    {
     "data": {
      "text/plain": [
       "tensor([[[[-0.1684, -0.1684, -0.1684,  ..., -0.1684, -0.1684, -0.1684],\n",
       "          [-0.1684, -0.1684, -0.1684,  ..., -0.1684, -0.1684, -0.1684],\n",
       "          [-0.1684, -0.1684, -0.1684,  ..., -0.1684, -0.1684, -0.1684],\n",
       "          ...,\n",
       "          [-0.1684, -0.1684, -0.1684,  ..., -0.1684, -0.1684, -0.1684],\n",
       "          [-0.1684, -0.1684, -0.1684,  ..., -0.1684, -0.1684, -0.1684],\n",
       "          [-0.1684, -0.1684, -0.1684,  ..., -0.1684, -0.1684, -0.1684]]]],\n",
       "       grad_fn=<MkldnnConvolutionBackward>)"
      ]
     },
     "execution_count": 13,
     "metadata": {},
     "output_type": "execute_result"
    }
   ],
   "source": [
    "ans"
   ]
  }
 ],
 "metadata": {
  "kernelspec": {
   "display_name": "Python 3",
   "language": "python",
   "name": "python3"
  },
  "language_info": {
   "codemirror_mode": {
    "name": "ipython",
    "version": 3
   },
   "file_extension": ".py",
   "mimetype": "text/x-python",
   "name": "python",
   "nbconvert_exporter": "python",
   "pygments_lexer": "ipython3",
   "version": "3.7.0"
  }
 },
 "nbformat": 4,
 "nbformat_minor": 5
}
